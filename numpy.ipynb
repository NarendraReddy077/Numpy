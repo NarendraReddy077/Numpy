{
 "cells": [
  {
   "cell_type": "markdown",
   "id": "f5ff10fd-0fdf-44d9-8a96-a0d973b5ea4c",
   "metadata": {},
   "source": [
    "<center><h1 style='color: green'>NumPy</h1></center><br>\n",
    "<p style='color: lightblue'><b>NumPy, short for Numerical Python, is a fundamental package for scientific computing in Python. It provides support for arrays, matrices, and a large collection of mathematical functions to operate on these data structures.</b></p>"
   ]
  },
  {
   "cell_type": "code",
   "execution_count": 1,
   "id": "6df574f3-c383-430b-9f1c-d45b59250116",
   "metadata": {},
   "outputs": [],
   "source": [
    "import numpy as np"
   ]
  },
  {
   "cell_type": "code",
   "execution_count": 7,
   "id": "1848a645-39b6-4e07-8db7-49aa1a569cb2",
   "metadata": {},
   "outputs": [
    {
     "data": {
      "text/plain": [
       "array([1, 2, 3, 4])"
      ]
     },
     "execution_count": 7,
     "metadata": {},
     "output_type": "execute_result"
    }
   ],
   "source": [
    "lst = [1, 2, 3, 4]\n",
    "arr = np.array(lst)\n",
    "arr\n",
    "# arr.size\n",
    "# arr.ndim"
   ]
  },
  {
   "cell_type": "markdown",
   "id": "ee726111-4120-412a-99ab-8bfb8b8a6b80",
   "metadata": {},
   "source": [
    "### Arrange function\n",
    "> Return evenly spaced values within a given interval."
   ]
  },
  {
   "cell_type": "code",
   "execution_count": 2,
   "id": "3bc38ca3-4064-4617-8ad6-6c76b8a6ebda",
   "metadata": {},
   "outputs": [
    {
     "name": "stdout",
     "output_type": "stream",
     "text": [
      "[1 2 3 4 5 6 7 8 9]\n",
      "[-3 -2 -1  0  1  2  3  4  5  6  7  8]\n"
     ]
    }
   ],
   "source": [
    "arr = np.arange(1, 10)\n",
    "print(arr)\n",
    "\n",
    "arr1 = np.arange(start = -3, stop = 3, step = 0.5, dtype=int)      # total values = ceil((stop - start)/step)\n",
    "print(arr1)"
   ]
  },
  {
   "cell_type": "markdown",
   "id": "3ca9bac0-8eac-400b-9a94-c82a402efe62",
   "metadata": {},
   "source": [
    "### Multidimentional Array"
   ]
  },
  {
   "cell_type": "code",
   "execution_count": 22,
   "id": "af95ba51-917a-4693-85e9-993da8814fb2",
   "metadata": {},
   "outputs": [
    {
     "data": {
      "text/plain": [
       "array([[ 1,  2,  3],\n",
       "       [ 4,  5,  6],\n",
       "       [ 7,  8,  9],\n",
       "       [10, 11, 12]])"
      ]
     },
     "execution_count": 22,
     "metadata": {},
     "output_type": "execute_result"
    }
   ],
   "source": [
    "arr = np.array([[1, 2, 3], [4, 5, 6], [7, 8, 9], [10, 11, 12]])\n",
    "arr"
   ]
  },
  {
   "cell_type": "markdown",
   "id": "55cda336-13c2-43af-8b66-15f5da3732be",
   "metadata": {},
   "source": [
    "#### `size` function"
   ]
  },
  {
   "cell_type": "markdown",
   "id": "353319ea-18b9-4681-9b69-76822f7a86ee",
   "metadata": {},
   "source": [
    "> numpy.size() function count the number of elements along a given axis (0 - rows and 1 - columns)"
   ]
  },
  {
   "cell_type": "code",
   "execution_count": 23,
   "id": "c9584d15-e2ca-4baa-bc65-8fe6d9118d3f",
   "metadata": {},
   "outputs": [
    {
     "name": "stdout",
     "output_type": "stream",
     "text": [
      "Total: 12\n",
      "Rows: 4\n",
      "Cols: 3\n"
     ]
    }
   ],
   "source": [
    "print(f'Total: {arr.size}')\n",
    "print(f'Rows: {np.size(arr, 0)}')\n",
    "print(f'Cols: {np.size(arr, 1)}')"
   ]
  },
  {
   "cell_type": "markdown",
   "id": "478d54d1-e096-4597-a429-d086a225afa3",
   "metadata": {},
   "source": [
    "#### `shape` function"
   ]
  },
  {
   "cell_type": "code",
   "execution_count": 28,
   "id": "03f78856-c614-4a1f-9fb7-162eb78f5be5",
   "metadata": {},
   "outputs": [
    {
     "name": "stdout",
     "output_type": "stream",
     "text": [
      "(4, 3)\n",
      "(4, 3)\n"
     ]
    }
   ],
   "source": [
    "print((np.size(arr, 0), np.size(arr, 1)))\n",
    "print(arr.shape)"
   ]
  },
  {
   "cell_type": "markdown",
   "id": "47de401b-b7ac-4b25-b52b-b56f92f48790",
   "metadata": {},
   "source": [
    "#### `dtype` function"
   ]
  },
  {
   "cell_type": "code",
   "execution_count": 29,
   "id": "746217ec-074c-42fd-a96e-3499fed6858e",
   "metadata": {},
   "outputs": [
    {
     "data": {
      "text/plain": [
       "dtype('float64')"
      ]
     },
     "execution_count": 29,
     "metadata": {},
     "output_type": "execute_result"
    }
   ],
   "source": [
    "arr1 = np.array([1, 9.3, 3, 5])\n",
    "arr1.dtype"
   ]
  },
  {
   "cell_type": "markdown",
   "id": "6a8c80f5-f2da-44c1-9d2b-2dffae2266f8",
   "metadata": {},
   "source": [
    "#### `ndim`"
   ]
  },
  {
   "cell_type": "code",
   "execution_count": 2,
   "id": "b1183afe-273c-4f08-b69b-0ba3ea75bd43",
   "metadata": {},
   "outputs": [
    {
     "data": {
      "text/plain": [
       "2"
      ]
     },
     "execution_count": 2,
     "metadata": {},
     "output_type": "execute_result"
    }
   ],
   "source": [
    "arr = np.array([[1, 2, 3], [4, 5, 6], [7, 8, 9], [10, 11, 12]])\n",
    "arr.ndim"
   ]
  },
  {
   "cell_type": "markdown",
   "id": "3edad270-f0f6-43e3-a7c1-dec27d4c1d3d",
   "metadata": {},
   "source": [
    "#### `zeroes`, `ones` function"
   ]
  },
  {
   "cell_type": "code",
   "execution_count": 18,
   "id": "1b82e628-1cb7-49d0-88a1-f61e8b90ed1f",
   "metadata": {},
   "outputs": [
    {
     "data": {
      "text/plain": [
       "array([[1, 1, 1, 1, 1],\n",
       "       [1, 1, 1, 1, 1],\n",
       "       [1, 1, 1, 1, 1],\n",
       "       [1, 1, 1, 1, 1]])"
      ]
     },
     "execution_count": 18,
     "metadata": {},
     "output_type": "execute_result"
    }
   ],
   "source": [
    "arr1 = np.zeros(shape=(4, 5), dtype=int)\n",
    "# arr1\n",
    "\n",
    "arr2 = np.ones(shape=(4, 5), dtype=int)\n",
    "arr2\n",
    "\n",
    "# arr3 = np.zeros_like(arr)"
   ]
  },
  {
   "cell_type": "markdown",
   "id": "f0b0fe2e-eb4f-44ab-9543-257d33b66d97",
   "metadata": {},
   "source": [
    "#### `eye` function"
   ]
  },
  {
   "cell_type": "markdown",
   "id": "11c5b7ad-bdc4-47d6-9eaf-b874c8edd9be",
   "metadata": {},
   "source": [
    "> The eye tool returns a 2-D array with  1’s as the diagonal and  0’s elsewhere. The diagonal can be main, upper, or lower depending on the optional parameter k."
   ]
  },
  {
   "cell_type": "code",
   "execution_count": 6,
   "id": "beeb0e44-d252-43dc-83ee-5c8f972b1388",
   "metadata": {},
   "outputs": [
    {
     "data": {
      "text/plain": [
       "array([[1, 0, 0],\n",
       "       [0, 1, 0],\n",
       "       [0, 0, 1]])"
      ]
     },
     "execution_count": 6,
     "metadata": {},
     "output_type": "execute_result"
    }
   ],
   "source": [
    "np.eye(3, dtype=int)"
   ]
  },
  {
   "cell_type": "code",
   "execution_count": 7,
   "id": "d09f56a9-9ea1-40fd-b9e4-794cdd067acc",
   "metadata": {},
   "outputs": [
    {
     "data": {
      "text/plain": [
       "array([[1, 0, 0, 0],\n",
       "       [0, 1, 0, 0],\n",
       "       [0, 0, 1, 0]])"
      ]
     },
     "execution_count": 7,
     "metadata": {},
     "output_type": "execute_result"
    }
   ],
   "source": [
    "np.eye(3, 4, dtype = int)"
   ]
  },
  {
   "cell_type": "code",
   "execution_count": 10,
   "id": "f5daa3ac-f5b5-4b74-bc59-e8b6572ff45f",
   "metadata": {},
   "outputs": [
    {
     "data": {
      "text/plain": [
       "array([[0, 1, 0, 0, 0],\n",
       "       [0, 0, 1, 0, 0],\n",
       "       [0, 0, 0, 1, 0],\n",
       "       [0, 0, 0, 0, 1],\n",
       "       [0, 0, 0, 0, 0]])"
      ]
     },
     "execution_count": 10,
     "metadata": {},
     "output_type": "execute_result"
    }
   ],
   "source": [
    "np.eye(5, k = 1, dtype=int)"
   ]
  },
  {
   "cell_type": "markdown",
   "id": "b57fff40-66fe-4add-a539-13d562750274",
   "metadata": {},
   "source": [
    "### `Random` functions "
   ]
  },
  {
   "cell_type": "markdown",
   "id": "3f01440d-6c54-43d4-879b-881ea18f89d0",
   "metadata": {},
   "source": [
    "#### **a) np.random.rand**"
   ]
  },
  {
   "cell_type": "markdown",
   "id": "605fc626-a4d3-4660-ab55-dbae11274d4f",
   "metadata": {},
   "source": [
    "> Create an array of the given shape and populate it with random samples from a uniform distribution over [0, 1)."
   ]
  },
  {
   "cell_type": "code",
   "execution_count": 40,
   "id": "bebef087-f5d0-4bc5-9473-5254ae85e070",
   "metadata": {},
   "outputs": [
    {
     "data": {
      "text/plain": [
       "array([[0.19961873, 0.93809151],\n",
       "       [0.02290386, 0.74012014],\n",
       "       [0.21865967, 0.28597044]])"
      ]
     },
     "execution_count": 40,
     "metadata": {},
     "output_type": "execute_result"
    }
   ],
   "source": [
    "np.random.rand(3, 2)         # If no arguments then it return a single Python float"
   ]
  },
  {
   "cell_type": "code",
   "execution_count": 42,
   "id": "d39cddb7-8a65-47f8-af46-aa3fd5ec9824",
   "metadata": {},
   "outputs": [
    {
     "data": {
      "text/plain": [
       "array([0.06789599, 0.11573832, 0.41016231, 0.65160041, 0.64693145])"
      ]
     },
     "execution_count": 42,
     "metadata": {},
     "output_type": "execute_result"
    }
   ],
   "source": [
    "np.random.random(5)"
   ]
  },
  {
   "cell_type": "markdown",
   "id": "8497ba92-7b44-4e8e-af44-36cba9be2e96",
   "metadata": {},
   "source": [
    "#### __b) np.random.randint__"
   ]
  },
  {
   "cell_type": "markdown",
   "id": "3f1a1ee9-aad7-44f9-a919-c14a7a55104f",
   "metadata": {},
   "source": [
    "> It returns an array of specified shape and fills it with random integers from low (inclusive) to high (exclusive), i.e. in the interval [low, high)."
   ]
  },
  {
   "cell_type": "code",
   "execution_count": 44,
   "id": "7c845316-2455-4c3a-bbab-11678dc02ca4",
   "metadata": {},
   "outputs": [
    {
     "data": {
      "text/plain": [
       "array([8, 7, 4, 4, 4, 7], dtype=int32)"
      ]
     },
     "execution_count": 44,
     "metadata": {},
     "output_type": "execute_result"
    }
   ],
   "source": [
    "np.random.randint(low=1, high=10, size=6)"
   ]
  },
  {
   "cell_type": "code",
   "execution_count": 45,
   "id": "e85c8575-9efc-4f48-95b0-e160c63e61e9",
   "metadata": {},
   "outputs": [
    {
     "data": {
      "text/plain": [
       "array([2, 1, 9], dtype=int32)"
      ]
     },
     "execution_count": 45,
     "metadata": {},
     "output_type": "execute_result"
    }
   ],
   "source": [
    "# Generate a 1 x 3 array with 3 different upper bounds\n",
    "np.random.randint(1, [3, 5, 10])"
   ]
  },
  {
   "cell_type": "code",
   "execution_count": 46,
   "id": "dc152641-4037-4fbb-b2db-f75ed6c8c00f",
   "metadata": {},
   "outputs": [
    {
     "data": {
      "text/plain": [
       "array([[1, 3, 3],\n",
       "       [2, 1, 4]], dtype=int32)"
      ]
     },
     "execution_count": 46,
     "metadata": {},
     "output_type": "execute_result"
    }
   ],
   "source": [
    "np.random.randint(5, size = (2, 3))"
   ]
  },
  {
   "cell_type": "markdown",
   "id": "7838f0db-d22d-4119-8690-2a44dcaa619b",
   "metadata": {},
   "source": [
    "#### __c) np.random.randn__"
   ]
  },
  {
   "cell_type": "markdown",
   "id": "7f4b5948-d28c-4f61-8bd6-b462765bccac",
   "metadata": {},
   "source": [
    "> The numpy.random.randn() function creates an array of specified shape and fills it with random values as per standard normal distribution."
   ]
  },
  {
   "cell_type": "code",
   "execution_count": 49,
   "id": "a83b50ec-6732-4bdf-b8f9-3b870f68294f",
   "metadata": {},
   "outputs": [
    {
     "data": {
      "text/plain": [
       "array([[ 0.24220802, -2.00710223],\n",
       "       [ 2.08614159, -1.48044497],\n",
       "       [ 1.11769897, -0.07059054]])"
      ]
     },
     "execution_count": 49,
     "metadata": {},
     "output_type": "execute_result"
    }
   ],
   "source": [
    "np.random.randn(3, 2)"
   ]
  },
  {
   "cell_type": "markdown",
   "id": "c69669ba-cbb8-4b40-9087-e7b210edf39f",
   "metadata": {},
   "source": [
    "### `Reshape function` - will not alter the original data"
   ]
  },
  {
   "cell_type": "code",
   "execution_count": 58,
   "id": "cddc2897-c703-474d-9b23-7adddcdb1531",
   "metadata": {},
   "outputs": [
    {
     "name": "stdout",
     "output_type": "stream",
     "text": [
      "[[12 13  5  8]\n",
      " [ 3  7 11  2]\n",
      " [ 8 10  4 11]]\n",
      "(3, 4)\n",
      "[[12 13  5  8  3  7]\n",
      " [11  2  8 10  4 11]]\n"
     ]
    }
   ],
   "source": [
    "arr = np.random.randint(1, 15, (3, 4))\n",
    "print(arr)\n",
    "print(arr.shape)\n",
    "\n",
    "arr = np.reshape(arr, (2, 6))\n",
    "\n",
    "print(arr)"
   ]
  },
  {
   "cell_type": "markdown",
   "id": "aa63d7b1-f59a-4312-bda9-4ad0d30bfb7b",
   "metadata": {},
   "source": [
    "### `linspace` function\n",
    "> Returns `num` evenly spaced samples, calculated over the interval [`start`, `stop`].<br>\n",
    "The endpoint of the interval can optionally be excluded."
   ]
  },
  {
   "cell_type": "markdown",
   "id": "4f29bf67-ab70-48ae-b0a6-354c1db110b4",
   "metadata": {},
   "source": [
    "- `arange` : Similar to `linspace`, but uses a step size (instead of the number of samples)."
   ]
  },
  {
   "cell_type": "code",
   "execution_count": 3,
   "id": "5aacbe1d-e0b0-4621-b244-10e258899140",
   "metadata": {},
   "outputs": [
    {
     "data": {
      "text/plain": [
       "array([2.  , 2.25, 2.5 , 2.75, 3.  ])"
      ]
     },
     "execution_count": 3,
     "metadata": {},
     "output_type": "execute_result"
    }
   ],
   "source": [
    "np.linspace(2.0, 3.0, num=5)"
   ]
  },
  {
   "cell_type": "code",
   "execution_count": 13,
   "id": "1f797826-44f5-4fc6-938a-878b46753bc6",
   "metadata": {},
   "outputs": [
    {
     "data": {
      "text/plain": [
       "array([2. , 2.2, 2.4, 2.6, 2.8])"
      ]
     },
     "execution_count": 13,
     "metadata": {},
     "output_type": "execute_result"
    }
   ],
   "source": [
    "np.linspace(2.0, 3.0, num=5, endpoint=False)"
   ]
  },
  {
   "cell_type": "code",
   "execution_count": 14,
   "id": "48fc3e77-37e6-4fcd-836f-94290ae29edd",
   "metadata": {},
   "outputs": [
    {
     "data": {
      "text/plain": [
       "(array([2.  , 2.25, 2.5 , 2.75, 3.  ]), np.float64(0.25))"
      ]
     },
     "execution_count": 14,
     "metadata": {},
     "output_type": "execute_result"
    }
   ],
   "source": [
    "np.linspace(2, 3, num=5, retstep=True)\n",
    "# print(type(np.linspace(2.0, 3.0, num=5, retstep=True)))               # tuple"
   ]
  },
  {
   "cell_type": "code",
   "execution_count": 19,
   "id": "8bb68621-043f-4e69-8fb7-e4de84d4fb38",
   "metadata": {},
   "outputs": [
    {
     "data": {
      "image/png": "[encoded data removed]",
      "text/plain": [
       "<Figure size 640x480 with 1 Axes>"
      ]
     },
     "metadata": {},
     "output_type": "display_data"
    }
   ],
   "source": [
    "import matplotlib.pyplot as plt\n",
    "N = 8\n",
    "y = np.zeros(N)\n",
    "x1 = np.linspace(0, 10, N, endpoint=True)\n",
    "x2 = np.linspace(0, 10, N, endpoint=False)\n",
    "plt.plot(x1, y, 'o')\n",
    "plt.plot(x2, y + 0.5, 'o')\n",
    "plt.ylim([-0.5, 1])\n",
    "plt.show()"
   ]
  },
  {
   "cell_type": "code",
   "execution_count": 21,
   "id": "0756be6d-cbd1-44b3-85cd-42b0b6c099e9",
   "metadata": {},
   "outputs": [
    {
     "data": {
      "text/plain": [
       "array([ 1.,  2.,  3.,  4.,  5.,  6.,  7.,  8.,  9., 10., 11., 12., 13.,\n",
       "       14., 15., 16., 17., 18., 19., 20., 21., 22., 23., 24., 25., 26.,\n",
       "       27., 28., 29., 30., 31., 32., 33., 34., 35., 36., 37., 38., 39.,\n",
       "       40., 41., 42., 43., 44., 45., 46., 47., 48., 49., 50.])"
      ]
     },
     "execution_count": 21,
     "metadata": {},
     "output_type": "execute_result"
    }
   ],
   "source": [
    "np.linspace(1, 50)"
   ]
  },
  {
   "cell_type": "markdown",
   "id": "50e711fe-4e94-4430-9c41-121060ca62e6",
   "metadata": {},
   "source": [
    "### `flatten` function\n",
    "> ndarray.flatten() function return a copy of the array collapsed into one dimension."
   ]
  },
  {
   "cell_type": "code",
   "execution_count": 27,
   "id": "3150738b-c8c3-45fe-9bb6-d959d59ac446",
   "metadata": {},
   "outputs": [
    {
     "name": "stdout",
     "output_type": "stream",
     "text": [
      "[[ 7 10  7 11]\n",
      " [ 1  1  7  1]\n",
      " [ 4 11  5  8]]\n",
      "(3, 4)\n",
      "--------------------\n",
      "[ 7 10  7 11  1  1  7  1  4 11  5  8]\n",
      "(12,)\n"
     ]
    }
   ],
   "source": [
    "arr = np.random.randint(1,15,(3,4))\n",
    "\n",
    "print(arr)\n",
    "print(arr.shape)\n",
    "\n",
    "print('-'*20)\n",
    "\n",
    "arr = arr.flatten()\n",
    "print(arr)\n",
    "print(arr.shape)"
   ]
  },
  {
   "cell_type": "markdown",
   "id": "0cd76f59-3ab7-423c-b7ff-b75676e0542d",
   "metadata": {},
   "source": [
    "### `logspace()` function\n",
    "> The numpy.logspace() function returns number spaces evenly w.r.t interval on a log scale."
   ]
  },
  {
   "cell_type": "code",
   "execution_count": 46,
   "id": "d0030712-3f45-44bd-91b6-e7604f1af9a2",
   "metadata": {},
   "outputs": [
    {
     "data": {
      "image/png": "[encoded data removed]",
      "text/plain": [
       "<Figure size 640x480 with 1 Axes>"
      ]
     },
     "metadata": {},
     "output_type": "display_data"
    }
   ],
   "source": [
    "# x = np.linspace(0, 100, 100)\n",
    "y = np.logspace(0, 3, 100, base=10)\n",
    "# plt.plot(x, y, ls = '--', color = 'red')\n",
    "plt.plot(y, ls = '--', color = 'red')\n",
    "plt.xlabel('X-axis')\n",
    "plt.ylabel('Y-axis')\n",
    "plt.title('Logarithmic Plot')\n",
    "\n",
    "# saving the file into directory\n",
    "plt.savefig('Logarithmic_plot.png')\n",
    "\n",
    "plt.show()"
   ]
  },
  {
   "cell_type": "markdown",
   "id": "e5914dd6-ccfb-425a-a651-c725d866cc12",
   "metadata": {},
   "source": [
    "### `max()`, `min()`, `sum()` function"
   ]
  },
  {
   "cell_type": "code",
   "execution_count": 47,
   "id": "ca696fba-c504-4314-8358-137c045ea82a",
   "metadata": {},
   "outputs": [
    {
     "name": "stdout",
     "output_type": "stream",
     "text": [
      "--------------------\n",
      "[[27  4  9 12 29]\n",
      " [14  5 27 10 12]\n",
      " [27 25  6 18 23]]\n",
      "--------------------\n",
      "MAX :  29\n",
      "MIN :  4\n",
      "SUM :  248\n"
     ]
    }
   ],
   "source": [
    "arr = np.random.randint(1,30,(3,5))\n",
    "\n",
    "print('-'*20)\n",
    "print(arr)\n",
    "print('-'*20)\n",
    "\n",
    "print('MAX : ', arr.max())\n",
    "print('MIN : ', arr.min())\n",
    "print('SUM : ', arr.sum())"
   ]
  },
  {
   "cell_type": "code",
   "execution_count": 48,
   "id": "ca77aa12-5b37-4f00-8dc6-18f85115aab2",
   "metadata": {},
   "outputs": [
    {
     "name": "stdout",
     "output_type": "stream",
     "text": [
      "--------------------\n",
      "[[25  6 17 24  1]\n",
      " [24 10 13 20 12]\n",
      " [22 20  7 14 20]]\n",
      "--------------------\n"
     ]
    }
   ],
   "source": [
    "arr = np.random.randint(1,30,(3,5))\n",
    "\n",
    "print('-'*20)\n",
    "print(arr)\n",
    "print('-'*20)"
   ]
  },
  {
   "cell_type": "code",
   "execution_count": 49,
   "id": "5db8162e-ffea-4a31-bf19-48309dee7dd0",
   "metadata": {},
   "outputs": [
    {
     "name": "stdout",
     "output_type": "stream",
     "text": [
      "MAX :  [25 20 17 24 20]\n",
      "MIN :  [22  6  7 14  1]\n",
      "SUM :  [71 36 37 58 33]\n"
     ]
    }
   ],
   "source": [
    "print('MAX : ', arr.max(axis = 0))\n",
    "print('MIN : ', arr.min(axis = 0))\n",
    "print('SUM : ', arr.sum(axis = 0))"
   ]
  },
  {
   "cell_type": "code",
   "execution_count": 52,
   "id": "8cf3c0ef-4868-41e6-9049-2b51cc0da462",
   "metadata": {},
   "outputs": [
    {
     "name": "stdout",
     "output_type": "stream",
     "text": [
      "MAX :  [25 24 22]\n",
      "MIN :  [ 1 10  7]\n",
      "SUM :  [73 79 83]\n"
     ]
    }
   ],
   "source": [
    "print('MAX : ', arr.max(axis = 1))\n",
    "print('MIN : ', arr.min(axis = 1))\n",
    "print('SUM : ', arr.sum(axis = 1))"
   ]
  },
  {
   "cell_type": "markdown",
   "id": "6f67b228-1fa8-4603-bdb1-005204b393b3",
   "metadata": {},
   "source": [
    "### `seed()` function\n",
    "> ensures that the random numbers generated are reproducible."
   ]
  },
  {
   "cell_type": "code",
   "execution_count": 65,
   "id": "c434bd64-baf6-4c10-a1b9-8f8406e257ef",
   "metadata": {},
   "outputs": [
    {
     "data": {
      "text/plain": [
       "array([[9, 4, 9],\n",
       "       [9, 1, 6]], dtype=int32)"
      ]
     },
     "execution_count": 65,
     "metadata": {},
     "output_type": "execute_result"
    }
   ],
   "source": [
    "np.random.seed(3)\n",
    "\n",
    "arr = np.random.randint(1, 10, (2, 3))\n",
    "arr"
   ]
  },
  {
   "cell_type": "code",
   "execution_count": null,
   "id": "f72a6894-81dd-4422-ad15-9c8ff57dd85b",
   "metadata": {},
   "outputs": [],
   "source": []
  }
 ],
 "metadata": {
  "kernelspec": {
   "display_name": "Python 3 (ipykernel)",
   "language": "python",
   "name": "python3"
  },
  "language_info": {
   "codemirror_mode": {
    "name": "ipython",
    "version": 3
   },
   "file_extension": ".py",
   "mimetype": "text/x-python",
   "name": "python",
   "nbconvert_exporter": "python",
   "pygments_lexer": "ipython3",
   "version": "3.13.1"
  }
 },
 "nbformat": 4,
 "nbformat_minor": 5
}
